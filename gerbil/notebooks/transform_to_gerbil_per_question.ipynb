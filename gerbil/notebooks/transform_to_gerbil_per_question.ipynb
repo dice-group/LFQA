{
 "cells": [
  {
   "cell_type": "code",
   "execution_count": 2,
   "metadata": {},
   "outputs": [],
   "source": [
    "import os\n",
    "import time\n",
    "import json\n",
    "import pandas as pd\n",
    "from gerbil_api_wrapper.gerbil import Gerbil"
   ]
  },
  {
   "cell_type": "code",
   "execution_count": 2,
   "metadata": {},
   "outputs": [],
   "source": [
    "def read_json(filename):\n",
    "    try:\n",
    "        with open(filename) as f:\n",
    "            return json.load(f)\n",
    "    except Exception as e:\n",
    "        print(str(e))\n",
    "        return None\n",
    "    \n",
    "def write_json(data, filename):\n",
    "    with open(filename, 'w') as f:\n",
    "        json.dump(data, f, ensure_ascii=False, indent=4)\n",
    "\n",
    "def extract_string_qald(json_data, language):\n",
    "    for question in json_data['question']:\n",
    "        if question['language'] == language:\n",
    "            return question['string']\n",
    "        \n",
    "standard_columns = ['system', 'dataset', 'language', 'id', 'experiment_url']"
   ]
  },
  {
   "attachments": {},
   "cell_type": "markdown",
   "metadata": {},
   "source": [
    "### Original"
   ]
  },
  {
   "cell_type": "code",
   "execution_count": null,
   "metadata": {},
   "outputs": [],
   "source": [
    "systems = ['deeppavlov']\n",
    "datasets = ['qald10']\n",
    "languages = ['en']"
   ]
  },
  {
   "cell_type": "code",
   "execution_count": null,
   "metadata": {},
   "outputs": [],
   "source": [
    "for system in systems:\n",
    "    for dataset in datasets:\n",
    "        for language in languages:\n",
    "            data = read_json(f\"../original_data/original-{system}-{dataset}-{language}.json\")\n",
    "\n",
    "            for question in data:\n",
    "\n",
    "                id_ = question[\"id\"]\n",
    "\n",
    "                answers_pred = question[\"answers_pred\"]\n",
    "                if type(answers_pred) == dict:\n",
    "                    answers_pred_formatted = [{\"x\": {\"type\": \"uri\", \"value\": value}} for value in answers_pred['answer']]\n",
    "                else:\n",
    "                    answers_pred_formatted = []\n",
    "\n",
    "                string = extract_string_qald(question, 'en') # here we use english question to get the string\n",
    "\n",
    "                qald_template_true = {\n",
    "                    \"questions\": [ question ]\n",
    "                }\n",
    "\n",
    "                qald_template_pred = {\n",
    "                    \"questions\": [{\n",
    "                        \"id\": f\"{id_}\",\n",
    "                        \"question\": [{\n",
    "                            \"language\": \"en\",\n",
    "                            \"string\": string\n",
    "                        }],\n",
    "                        \"query\": {\n",
    "                            \"sparql\": \"\"\n",
    "                        },\n",
    "                        \"answers\": [{\n",
    "                            'head': {\n",
    "                                    'vars': ['x']\n",
    "                                    },\n",
    "                            'results': {\n",
    "                                'bindings': answers_pred_formatted\n",
    "                            }\n",
    "                        }]\n",
    "                    }]\n",
    "                }\n",
    "                \n",
    "                # check if the file exists\n",
    "                if os.path.isfile(f\"../original_data/{system}-{dataset}-{language}.log\"):\n",
    "                    df = pd.read_csv(f\"../original_data/{system}-{dataset}-{language}.log\", sep='\\t')\n",
    "                    if \"id\" not in df.columns:\n",
    "                        df.columns = standard_columns\n",
    "                    if id_ in df['id'].values: \n",
    "                        print(f\"Skipping {id_}\")\n",
    "                        continue  # TODO: doesn't work for some reason CHECK!!!\n",
    "\n",
    "                write_json(qald_template_true, f\"../original_data/tmp/{system}-{dataset}-{id_}-{language}-true.json\")\n",
    "                write_json(qald_template_pred, f\"../original_data/tmp/{system}-{dataset}-{id_}-{language}-pred.json\")\n",
    "\n",
    "                wrapper = Gerbil(\n",
    "                    gold_standard_file=f\"../original_data/tmp/{system}-{dataset}-{id_}-{language}-true.json\",\n",
    "                    test_results_file=f\"../original_data/tmp/{system}-{dataset}-{id_}-{language}-pred.json\",\n",
    "                    test_results_name=f\"{system}-{dataset}-{id_}-{language}-pred\",\n",
    "                    gold_standard_name=f\"{system}-{dataset}-{id_}-{language}-true\",\n",
    "                    language=language,\n",
    "                    # check_for_another_experiments=True\n",
    "                )\n",
    "\n",
    "                experiment_url = str(wrapper.get_experiment_url + wrapper.experiment_id)\n",
    "\n",
    "                with open(f\"../original_data/{system}-{dataset}-{language}.log\", 'a') as f:\n",
    "                    f.write(f\"{system}\\t{dataset}\\t{language}\\t{id_}\\t{experiment_url}\\n\")\n",
    "                \n",
    "                time.sleep(0.1)"
   ]
  },
  {
   "attachments": {},
   "cell_type": "markdown",
   "metadata": {},
   "source": [
    "### Translations"
   ]
  },
  {
   "cell_type": "code",
   "execution_count": 3,
   "metadata": {},
   "outputs": [
    {
     "data": {
      "text/plain": [
       "['deeppavlov-QALD10Train-MT_de-spacy_ner-mag_el-mbart_mt.json.json',\n",
       " 'deeppavlov-QALD10Train-MT_de-babelscape_ner-mgenre_el-mbart_mt.json.json',\n",
       " 'deeppavlov-QALD10Train-MT_de-babelscape_ner-mag_el-opus_mt.json.json',\n",
       " 'deeppavlov-QALD10Train-MT_de-babelscape_ner-mgenre_el-opus_mt.json.json',\n",
       " 'deeppavlov-QALD10Train-MT_de-no_ner-no_el-mbart_mt.json.json',\n",
       " 'deeppavlov-QALD10Train-MT_de-flair_ner-mgenre_el-nllb_mt.json.json',\n",
       " 'deeppavlov-QALD10Train-MT_de-no_ner-no_el-libre_mt.json.json',\n",
       " 'deeppavlov-QALD10Train-MT_de-davlan_ner-mag_el-opus_mt.json.json',\n",
       " 'deeppavlov-QALD10Train-MT_de-spacy_ner-mag_el-libre_mt.json.json',\n",
       " 'deeppavlov-QALD10Train-MT_de-flair_ner-mag_el-libre_mt.json.json',\n",
       " 'deeppavlov-QALD10Train-MT_de-babelscape_ner-mag_el-nllb_mt.json.json',\n",
       " 'deeppavlov-QALD10Train-MT_de-no_ner-no_el-opus_mt.json.json',\n",
       " 'deeppavlov-QALD10Train-MT_de-davlan_ner-mgenre_el-mbart_mt.json.json',\n",
       " 'deeppavlov-QALD10Train-MT_de-babelscape_ner-mag_el-mbart_mt.json.json',\n",
       " 'deeppavlov-QALD10Train-MT_de-spacy_ner-mgenre_el-libre_mt.json.json',\n",
       " 'deeppavlov-QALD10Train-MT_de-davlan_ner-mgenre_el-opus_mt.json.json',\n",
       " 'deeppavlov-QALD10Train-MT_de-flair_ner-mgenre_el-libre_mt.json.json',\n",
       " 'deeppavlov-QALD10Train-MT_de-spacy_ner-mgenre_el-opus_mt.json.json',\n",
       " 'deeppavlov-QALD10Train-MT_de-spacy_ner-mgenre_el-nllb_mt.json.json',\n",
       " 'deeppavlov-QALD10Train-MT_de-no_ner-no_el-nllb_mt.json.json',\n",
       " 'deeppavlov-QALD10Train-MT_de-flair_ner-mgenre_el-mbart_mt.json.json',\n",
       " 'deeppavlov-QALD10Train-MT_de-davlan_ner-mag_el-mbart_mt.json.json',\n",
       " 'deeppavlov-QALD10Train-MT_de-spacy_ner-mag_el-opus_mt.json.json',\n",
       " 'deeppavlov-QALD10Train-MT_de-davlan_ner-mgenre_el-libre_mt.json.json',\n",
       " 'deeppavlov-QALD10Train-MT_de-davlan_ner-mag_el-libre_mt.json.json',\n",
       " 'deeppavlov-QALD10Train-MT_de-flair_ner-mag_el-mbart_mt.json.json',\n",
       " 'deeppavlov-QALD10Train-MT_de-davlan_ner-mag_el-nllb_mt.json.json',\n",
       " 'deeppavlov-QALD10Train-MT_de-flair_ner-mag_el-opus_mt.json.json',\n",
       " 'deeppavlov-QALD10Train-MT_de-davlan_ner-mgenre_el-nllb_mt.json.json',\n",
       " 'deeppavlov-QALD10Train-MT_de-flair_ner-mgenre_el-opus_mt.json.json',\n",
       " 'deeppavlov-QALD10Train-MT_de-spacy_ner-mgenre_el-mbart_mt.json.json',\n",
       " 'deeppavlov-QALD10Train-MT_de-flair_ner-mag_el-nllb_mt.json.json',\n",
       " 'deeppavlov-QALD10Train-MT_de-babelscape_ner-mgenre_el-libre_mt.json.json',\n",
       " 'deeppavlov-QALD10Train-MT_de-babelscape_ner-mgenre_el-nllb_mt.json.json',\n",
       " 'deeppavlov-QALD10Train-MT_de-spacy_ner-mag_el-nllb_mt.json.json',\n",
       " 'deeppavlov-QALD10Train-MT_de-babelscape_ner-mag_el-libre_mt.json.json']"
      ]
     },
     "execution_count": 3,
     "metadata": {},
     "output_type": "execute_result"
    }
   ],
   "source": [
    "system = 'deeppavlov'\n",
    "dataset = 'qald10'\n",
    "language = 'de'\n",
    "\n",
    "data_files = [file for file in os.listdir(\"../translated_data/\") if system in file.lower() and dataset.replace('-', '') in file.lower() and f\"{language}-\" in file.lower() and \".log\" not in file.lower()]\n",
    "data_files"
   ]
  },
  {
   "cell_type": "code",
   "execution_count": null,
   "metadata": {},
   "outputs": [],
   "source": [
    "for data_file in data_files:\n",
    "    data = read_json(f\"../translated_data/{data_file}\")\n",
    "\n",
    "    if not data:\n",
    "        print(f\"Error with {data_file}\")\n",
    "        assert False\n",
    "    else:\n",
    "        data = data['questions']\n",
    "        \n",
    "    for question in data:\n",
    "\n",
    "        id_ = question[\"id\"]\n",
    "\n",
    "        answers_pred = question[\"answers_pred\"]\n",
    "        if type(answers_pred) == dict:\n",
    "            answers_pred_formatted = [{\"x\": {\"type\": \"uri\", \"value\": value}} for value in answers_pred['answer']]\n",
    "        else:\n",
    "            answers_pred_formatted = []\n",
    "\n",
    "        string = extract_string_qald(question, 'en') # here we use english question to get the string\n",
    "\n",
    "        qald_template_true = {\n",
    "            \"questions\": [ question ]\n",
    "        }\n",
    "\n",
    "        qald_template_pred = {\n",
    "            \"questions\": [{\n",
    "                \"id\": f\"{id_}\",\n",
    "                \"question\": [{\n",
    "                    \"language\": \"en\",\n",
    "                    \"string\": string\n",
    "                }],\n",
    "                \"query\": {\n",
    "                    \"sparql\": \"\"\n",
    "                },\n",
    "                \"answers\": [{\n",
    "                    'head': {\n",
    "                            'vars': ['x']\n",
    "                            },\n",
    "                    'results': {\n",
    "                        'bindings': answers_pred_formatted\n",
    "                    }\n",
    "                }]\n",
    "            }]\n",
    "        }\n",
    "        \n",
    "        # check if the file exists\n",
    "        if os.path.isfile(f\"../translated_data/{data_file}.log\"):\n",
    "            df = pd.read_csv(f\"../translated_data/{data_file}.log\", sep='\\t')\n",
    "            if \"id\" not in df.columns:\n",
    "                df.columns = standard_columns\n",
    "            \n",
    "            if id_ in df['id'].values:\n",
    "                print(f\"Skipping {id_}\")\n",
    "                continue  \n",
    "\n",
    "        write_json(qald_template_true, f\"../translated_data/tmp/{data_file}-{id_}-true.json\")\n",
    "        write_json(qald_template_pred, f\"../translated_data/tmp/{data_file}-{id_}-pred.json\")\n",
    "\n",
    "        wrapper = Gerbil(\n",
    "            gold_standard_file=f\"../translated_data/tmp/{data_file}-{id_}-true.json\",\n",
    "            test_results_file=f\"../translated_data/tmp/{data_file}-{id_}-pred.json\",\n",
    "            test_results_name=f\"{data_file}-{id_}-pred\",\n",
    "            gold_standard_name=f\"{data_file}-{id_}-true\",\n",
    "            language=language,\n",
    "            # check_for_another_experiments=True\n",
    "        )\n",
    "\n",
    "        experiment_url = str(wrapper.get_experiment_url + wrapper.experiment_id)\n",
    "\n",
    "        with open(f\"../translated_data/{data_file}.log\", 'a') as f:\n",
    "            f.write(f\"{system}\\t{dataset}\\t{language}\\t{id_}\\t{experiment_url}\\n\")\n",
    "        \n",
    "        time.sleep(0.5)\n",
    "        # TODO: produce error with upload URL "
   ]
  },
  {
   "attachments": {},
   "cell_type": "markdown",
   "metadata": {},
   "source": [
    "## Parse results"
   ]
  },
  {
   "cell_type": "code",
   "execution_count": 4,
   "metadata": {},
   "outputs": [],
   "source": [
    "metrics = [\n",
    "    \"macroF1\",\n",
    "    \"microF1\",\n",
    "    \"macroPrecision\",\n",
    "    \"microPrecision\",\n",
    "    \"macroRecall\",\n",
    "    \"microRecall\",\n",
    "    \"Macro_F1_QALD\"\n",
    "]"
   ]
  },
  {
   "cell_type": "code",
   "execution_count": 5,
   "metadata": {},
   "outputs": [],
   "source": [
    "dir_path = \"../translated_data/\" # or \"../translated_data/\"\n",
    "log_files = [file for file in os.listdir(dir_path) if \".log\" in file] "
   ]
  },
  {
   "cell_type": "code",
   "execution_count": 7,
   "metadata": {},
   "outputs": [
    {
     "name": "stdout",
     "output_type": "stream",
     "text": [
      "deeppavlov-QALD10Train-MT_de-davlan_ner-mag_el-libre_mt.json.json.log : (395, 5)\n",
      "Error with Macro_F1_QALD in deeppavlov-QALD10Train-MT_de-davlan_ner-mag_el-libre_mt.json.json.log\n",
      "deeppavlov-QALD10Train-MT_de-davlan_ner-mag_el-nllb_mt.json.json.log : (395, 5)\n",
      "deeppavlov-QALD10Train-MT_de-flair_ner-mgenre_el-mbart_mt.json.json.log : (395, 5)\n",
      "deeppavlov-QALD10Train-MT_de-davlan_ner-mgenre_el-opus_mt.json.json.log : (395, 5)\n",
      "deeppavlov-QALD10Train-MT_de-flair_ner-mgenre_el-libre_mt.json.json.log : (395, 5)\n"
     ]
    }
   ],
   "source": [
    "for log_file in log_files:\n",
    "    df = pd.read_csv(f\"{dir_path}{log_file}\", sep='\\t', header=None)\n",
    "    if df.shape[1] == len(standard_columns):\n",
    "        df.columns = standard_columns\n",
    "    elif df.shape[1] == len(standard_columns) + len(metrics):\n",
    "        continue\n",
    "    else:\n",
    "        print(\"ERROR, check\", log_file)\n",
    "        continue\n",
    "    \n",
    "    print(log_file, \":\", df.shape)\n",
    "\n",
    "    id_jsonld = dict()\n",
    "\n",
    "    for i, row in df.iterrows():\n",
    "        id_jsonld[row['id']] = Gerbil.get_results(row['experiment_url'])\n",
    "\n",
    "    for metric in metrics:\n",
    "        try:\n",
    "            df[metric] = df['id'].apply(lambda x: float(id_jsonld[x]['@graph'][1][metric]))\n",
    "        except:\n",
    "            print(f\"Error with {metric} in {log_file}\")\n",
    "            continue\n",
    "\n",
    "    df.to_csv(f\"{dir_path}{log_file}\", sep='\\t', index=False)"
   ]
  },
  {
   "attachments": {},
   "cell_type": "markdown",
   "metadata": {},
   "source": [
    "## Compare results"
   ]
  },
  {
   "cell_type": "code",
   "execution_count": 51,
   "metadata": {},
   "outputs": [],
   "source": [
    "system = 'deeppavlov'\n",
    "dataset = 'qald10'\n",
    "language = 'ru'\n",
    "\n",
    "df_dict = dict()\n",
    "\n",
    "translated_path = \"../translated_data/\"\n",
    "original_path = \"../original_data/\" \n",
    "log_files = [file for file in os.listdir(translated_path) if \".log\" in file and system in file and dataset in file.lower() and f\"{language}-\" in file.lower()]  + [file for file in os.listdir(original_path) if \".log\" in file and system in file and dataset in file.lower() and f\"-{language}\" in file.lower()]"
   ]
  },
  {
   "cell_type": "code",
   "execution_count": 52,
   "metadata": {},
   "outputs": [],
   "source": [
    "for log_file in log_files:\n",
    "    try:\n",
    "        df = pd.read_csv(f\"{translated_path}{log_file}\", sep='\\t')\n",
    "\n",
    "        label = log_file.replace(\".json.json.log\", \"\")\n",
    "        label = \"\".join(label.split(\"_\")[1:]).replace(f\"{language}-\", \"\")\n",
    "        df_dict[label] = df\n",
    "    except:\n",
    "        df = pd.read_csv(f\"{original_path}{log_file}\", sep='\\t')\n",
    "\n",
    "        label = log_file.replace(\".log\", \"\")\n",
    "        df_dict[label] = df"
   ]
  },
  {
   "cell_type": "code",
   "execution_count": 53,
   "metadata": {},
   "outputs": [],
   "source": [
    "df_stats = {\"label\": [], \"macroF1\": []}\n",
    "for k, v in df_dict.items():\n",
    "    df_stats[\"label\"].append(k)\n",
    "    df_stats[\"macroF1\"].append(v[\"macroF1\"].mean())\n",
    "\n",
    "df_stats = pd.DataFrame(df_stats)"
   ]
  },
  {
   "cell_type": "code",
   "execution_count": 54,
   "metadata": {},
   "outputs": [
    {
     "data": {
      "image/png": "[encoded data removed]",
      "text/plain": [
       "<Figure size 1152x432 with 1 Axes>"
      ]
     },
     "metadata": {
      "needs_background": "light"
     },
     "output_type": "display_data"
    }
   ],
   "source": [
    "# create a bar chart where each bar is a system (log file)\n",
    "import matplotlib.pyplot as plt\n",
    "import seaborn as sns\n",
    "\n",
    "# change figure size\n",
    "plt.figure(figsize=(16, 6))\n",
    "plt.yscale('log')\n",
    "# rotate x-axis labels\n",
    "plt.xticks(rotation=90)\n",
    "ax = sns.barplot(data=df_stats.sort_values(by=\"macroF1\"), x=\"label\", y=\"macroF1\")\n",
    "# add labels and titles\n",
    "ax.set(title=f\"{system} {dataset} {language}\", xlabel=\"\", ylabel=\"macroF1\")\n",
    "\n",
    "# show the plot\n",
    "plt.show()"
   ]
  },
  {
   "cell_type": "code",
   "execution_count": null,
   "metadata": {},
   "outputs": [],
   "source": []
  }
 ],
 "metadata": {
  "kernelspec": {
   "display_name": "Python 3",
   "language": "python",
   "name": "python3"
  },
  "language_info": {
   "codemirror_mode": {
    "name": "ipython",
    "version": 3
   },
   "file_extension": ".py",
   "mimetype": "text/x-python",
   "name": "python",
   "nbconvert_exporter": "python",
   "pygments_lexer": "ipython3",
   "version": "3.8.10"
  },
  "orig_nbformat": 4
 },
 "nbformat": 4,
 "nbformat_minor": 2
}
