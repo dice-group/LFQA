{
 "cells": [
  {
   "cell_type": "code",
   "execution_count": 14,
   "metadata": {},
   "outputs": [],
   "source": [
    "import os\n",
    "import time\n",
    "import json\n",
    "import pandas as pd\n",
    "from tqdm.notebook import tqdm\n",
    "\n",
    "import lfqa_utils as utils"
   ]
  },
  {
   "cell_type": "code",
   "execution_count": 11,
   "metadata": {},
   "outputs": [],
   "source": [
    "standard_columns = ['system', 'dataset', 'language', 'id', 'experiment_url']"
   ]
  },
  {
   "cell_type": "code",
   "execution_count": 23,
   "metadata": {},
   "outputs": [
    {
     "data": {
      "text/plain": [
       "18"
      ]
     },
     "execution_count": 23,
     "metadata": {},
     "output_type": "execute_result"
    }
   ],
   "source": [
    "system = 'deeppavlov'\n",
    "dataset = 'qald9plustrain'\n",
    "language = 'ru'\n",
    "kg = 'wikidata'\n",
    "\n",
    "data_files = [file for file in os.listdir(\"../translated_data/\") if system in file.lower() and dataset.replace('-', '') in file.lower() and f\"{language}-\" in file.lower() and \".log\" not in file.lower() and kg in file.lower()]\n",
    "len(data_files)"
   ]
  },
  {
   "cell_type": "code",
   "execution_count": 24,
   "metadata": {},
   "outputs": [
    {
     "data": {
      "application/vnd.jupyter.widget-view+json": {
       "model_id": "6281d3d719af497d912d50b9eca0200c",
       "version_major": 2,
       "version_minor": 0
      },
      "text/plain": [
       "  0%|          | 0/18 [00:00<?, ?it/s]"
      ]
     },
     "metadata": {},
     "output_type": "display_data"
    }
   ],
   "source": [
    "for data_file in tqdm(data_files):\n",
    "    data = utils.read_json(f\"../translated_data/{data_file}\")\n",
    "\n",
    "    if not data:\n",
    "        print(f\"Error with {data_file}\")\n",
    "        assert False\n",
    "    else:\n",
    "        data = data['questions']\n",
    "        \n",
    "    df_dict = {column: [] for column in standard_columns + ['precision', 'recall', 'f1']} \n",
    "\n",
    "    for question in data:\n",
    "        id_ = question[\"id\"]\n",
    "\n",
    "        answers_pred = question[\"answers_pred\"]\n",
    "        if type(answers_pred) == dict:\n",
    "            answers_pred_formatted = [{\"x\": {\"type\": \"uri\", \"value\": value}} for value in answers_pred['answer']]\n",
    "        else:\n",
    "            answers_pred_formatted = []\n",
    "\n",
    "        answers_true_formatted = question['answers'][0]['results']['bindings'] if \"results\" in question['answers'][0] else []\n",
    "        \n",
    "        precision, recall, f1 = utils.precision_recall_f1(answers_true_formatted, answers_pred_formatted, utils.is_equal)\n",
    "\n",
    "        experiment_url = \"http://custom-f1-calc.here\"\n",
    "\n",
    "        df_dict['system'].append(system)\n",
    "        df_dict['dataset'].append(dataset)\n",
    "        df_dict['language'].append(language)\n",
    "        df_dict['id'].append(id_)\n",
    "        df_dict['experiment_url'].append(experiment_url)\n",
    "        df_dict['precision'].append(precision)\n",
    "        df_dict['recall'].append(recall)\n",
    "        df_dict['f1'].append(f1)\n",
    "\n",
    "    df = pd.DataFrame.from_dict(df_dict)\n",
    "    df.to_csv(f\"../translated_data/finished_experiments_custom/{data_file}.tsv\", sep='\\t', index=False)"
   ]
  },
  {
   "cell_type": "code",
   "execution_count": null,
   "metadata": {},
   "outputs": [],
   "source": []
  }
 ],
 "metadata": {
  "kernelspec": {
   "display_name": "Python 3",
   "language": "python",
   "name": "python3"
  },
  "language_info": {
   "codemirror_mode": {
    "name": "ipython",
    "version": 3
   },
   "file_extension": ".py",
   "mimetype": "text/x-python",
   "name": "python",
   "nbconvert_exporter": "python",
   "pygments_lexer": "ipython3",
   "version": "3.8.10"
  },
  "orig_nbformat": 4
 },
 "nbformat": 4,
 "nbformat_minor": 2
}
