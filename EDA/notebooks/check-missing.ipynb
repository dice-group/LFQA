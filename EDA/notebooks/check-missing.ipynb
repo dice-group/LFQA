{
 "cells": [
  {
   "cell_type": "code",
   "execution_count": 1,
   "metadata": {},
   "outputs": [],
   "source": [
    "import os\n",
    "import pandas as pd"
   ]
  },
  {
   "cell_type": "code",
   "execution_count": 2,
   "metadata": {},
   "outputs": [],
   "source": [
    "df_kgqa = pd.read_csv(\"../data/Lingua Franca KGQA Experiments - mainTable.tsv\", sep=\"\\t\")"
   ]
  },
  {
   "cell_type": "code",
   "execution_count": 4,
   "metadata": {},
   "outputs": [
    {
     "data": {
      "text/plain": [
       "149"
      ]
     },
     "execution_count": 4,
     "metadata": {},
     "output_type": "execute_result"
    }
   ],
   "source": [
    "df_kgqa.Dataset.nunique()"
   ]
  },
  {
   "cell_type": "code",
   "execution_count": 7,
   "metadata": {},
   "outputs": [],
   "source": [
    "lst = [l.replace(\".json\", \"\") for l in os.listdir(\"/home/ins-alex/playground/gerbil/translated_data/\")]"
   ]
  },
  {
   "cell_type": "code",
   "execution_count": 10,
   "metadata": {},
   "outputs": [
    {
     "name": "stdout",
     "output_type": "stream",
     "text": [
      "qald_9_plus_train_dbpedia\n",
      "qald_9_plus_test_dbpedia\n"
     ]
    }
   ],
   "source": [
    "for i in df_kgqa.Dataset.unique():\n",
    "    if i not in lst:\n",
    "        print(i)"
   ]
  },
  {
   "cell_type": "code",
   "execution_count": 11,
   "metadata": {},
   "outputs": [
    {
     "name": "stdout",
     "output_type": "stream",
     "text": [
      "QALD9PlusTrain-MT_de-flair_ner-mgenre_el-nllb_mt\n",
      "QALD9PlusTrain-MT_de-davlan_ner-mgenre_el-libre_mt\n",
      "QALD9PlusTrain-MT_de-babelscape_ner-mag_el-mbart_mt\n",
      "QALD9PlusTrain-MT_fr-babelscape_ner-mag_el-libre_mt\n",
      "QALD9Plus-MT_de-babelscape_ner-mgenre_el-opus_mt\n"
     ]
    }
   ],
   "source": [
    "for i in lst:\n",
    "    if i not in df_kgqa.Dataset.values:\n",
    "        print(i)"
   ]
  },
  {
   "cell_type": "code",
   "execution_count": null,
   "metadata": {},
   "outputs": [],
   "source": []
  }
 ],
 "metadata": {
  "kernelspec": {
   "display_name": "Python 3.8.10 64-bit",
   "language": "python",
   "name": "python3"
  },
  "language_info": {
   "codemirror_mode": {
    "name": "ipython",
    "version": 3
   },
   "file_extension": ".py",
   "mimetype": "text/x-python",
   "name": "python",
   "nbconvert_exporter": "python",
   "pygments_lexer": "ipython3",
   "version": "3.8.10"
  },
  "orig_nbformat": 4,
  "vscode": {
   "interpreter": {
    "hash": "916dbcbb3f70747c44a77c7bcd40155683ae19c65e1c03b4aa3499c5328201f1"
   }
  }
 },
 "nbformat": 4,
 "nbformat_minor": 2
}
