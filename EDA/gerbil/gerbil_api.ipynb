{
 "cells": [
  {
   "cell_type": "code",
   "execution_count": 11,
   "id": "8340a8b6-5892-4011-a240-c6c777bfc66d",
   "metadata": {},
   "outputs": [],
   "source": [
    "import os\n",
    "import json\n",
    "import time\n",
    "import urllib\n",
    "import requests\n",
    "import datetime\n",
    "\n",
    "headers = {'Content-Type': 'multipart/form-data'}"
   ]
  },
  {
   "cell_type": "code",
   "execution_count": 12,
   "id": "44fe935d-23db-4542-95a3-5734ce848fba",
   "metadata": {},
   "outputs": [],
   "source": [
    "def read_json(filename):\n",
    "    with open(filename) as f:\n",
    "        return json.load(f)\n",
    "    \n",
    "def write_json(data, filename):\n",
    "    with open(filename, 'w') as f:\n",
    "        json.dump(data, f, ensure_ascii=False, indent=4)\n",
    "        \n",
    "def upload_file(file, name, type, multiselect=None):\n",
    "    if len(file) > 100:\n",
    "        raise Exception(\"File names must not exceed 100 characters!\")\n",
    "    files = {\n",
    "        \"file\": (file, open(file, 'rb'), type)\n",
    "    }\n",
    "    data = {\n",
    "        'name': name,\n",
    "        'multiselect': multiselect \n",
    "    }\n",
    "    request = requests.post(\"http://gerbil-qa.cs.uni-paderborn.de:8080/gerbil/file/upload\", data=data, files=files)\n",
    "    response = request.json()\n",
    "    if request.status_code == 200:\n",
    "        return response\n",
    "    else: \n",
    "        raise Exception(f\"file upload not successful: {request.status_code}: {request.content}\")"
   ]
  },
  {
   "cell_type": "code",
   "execution_count": 3,
   "id": "6d97ce1d-9075-4ae9-83bc-00a04d3829d0",
   "metadata": {},
   "outputs": [],
   "source": [
    "url_postfix = \"\"\"experimentData={{\"type\":\"QA\",\"matching\":\"STRONG_ENTITY_MATCH\",\"annotator\":[\"{annotator}\"],\"dataset\":[\"{dataset}\"],\"answerFiles\":[],\"questionLanguage\":\"{lang}\"}}\"\"\"\n",
    "uploaded_dataset_prefix = \"NIFDS\"\n",
    "\n",
    "data_folder = \"translated_data\"\n",
    "files = [os.path.join(data_folder, f) for f in os.listdir(\"translated_data\")]\n",
    "\n",
    "dataset_dict = {\n",
    "    'English': 'en',\n",
    "    # 'German': 'de',\n",
    "    # 'Russian': 'ru',\n",
    "    # 'French': 'fr'\n",
    "}\n",
    "\n",
    "annotators = [\n",
    "    'QAnswer',\n",
    "    'Qanary_1',\n",
    "    'Qanary_2',\n",
    "    'Qanary_3',\n",
    "    'Qanary_4',\n",
    "    'Qanary_5',\n",
    "]"
   ]
  },
  {
   "cell_type": "code",
   "execution_count": 4,
   "id": "6e0197cd-584d-4479-9f0c-8d4b4876034b",
   "metadata": {},
   "outputs": [
    {
     "name": "stdout",
     "output_type": "stream",
     "text": [
      "NIFWS_Qanary_5(http://porque.cs.upb.de:40123/qanary_5/gerbil) English http://gerbil-qa.aksw.org/gerbil/experiment?id=202209280000\n",
      "NIFWS_Qanary_5(http://porque.cs.upb.de:40123/qanary_5/gerbil) English http://gerbil-qa.aksw.org/gerbil/experiment?id=202209280001\n"
     ]
    }
   ],
   "source": [
    "for file in files:\n",
    "    for annotator_ in annotators:\n",
    "        annotator = \"NIFWS_{0}(http://porque.cs.upb.de:40123/{1}/gerbil)\".format(annotator_, annotator_.lower())\n",
    "        for src_lang, lang_code in zip(dataset_dict.keys(), dataset_dict.values()):\n",
    "            gold_standard_file = file\n",
    "            gold_standard_name = file.split(\".\")[0]\n",
    "            upload_file(gold_standard_file, gold_standard_name, 'application/json')\n",
    "\n",
    "            execute_url = \"http://gerbil-qa.aksw.org/gerbil/execute?\" + url_postfix.format(\n",
    "                annotator=annotator,\n",
    "                dataset=f\"{uploaded_dataset_prefix}_{gold_standard_name}({gold_standard_file})\",\n",
    "                lang=lang_code\n",
    "            )\n",
    "\n",
    "            is_ok = False\n",
    "            while not is_ok:\n",
    "                try:\n",
    "                    if len(requests.get(\"http://gerbil-qa.aksw.org/gerbil/running\").text) < 5000:\n",
    "                        response = requests.get(execute_url)\n",
    "                        experiment_url = \"http://gerbil-qa.aksw.org/gerbil/experiment?id={0}\".format(response.text)\n",
    "                        print(annotator, src_lang, experiment_url)\n",
    "                        with open(\"experiments.log\", 'a') as f:\n",
    "                            c_time = datetime.datetime.now().strftime(\"%Y-%m-%d %H:%M:%S\")\n",
    "                            f.write(f\"{annotator}\\t{gold_standard_name}\\t{src_lang}\\t{experiment_url}\\t{c_time}\\n\")\n",
    "\n",
    "                        is_ok = True\n",
    "                    else:\n",
    "                        time.sleep(60)\n",
    "                    \n",
    "                except:\n",
    "                    time.sleep(60)"
   ]
  },
  {
   "cell_type": "markdown",
   "id": "6d90ce28",
   "metadata": {},
   "source": [
    "# QALD 9 Plus (DBpedia)\n",
    "\n",
    "## Test\n",
    "\n",
    "\n",
    "### QAnswer\n",
    "\n",
    "* English http://gerbil-qa.aksw.org/gerbil/experiment?id=202209230009\n",
    "* German http://gerbil-qa.aksw.org/gerbil/experiment?id=202209250000\n",
    "* Russian http://gerbil-qa.aksw.org/gerbil/experiment?id=202209250001\n",
    "* French http://gerbil-qa.aksw.org/gerbil/experiment?id=202209250002\n",
    "\n",
    "## Train\n",
    "\n",
    "### QAnswer\n",
    "\n",
    "* English http://gerbil-qa.aksw.org/gerbil/experiment?id=202209240013\n",
    "* German http://gerbil-qa.aksw.org/gerbil/experiment?id=202209240014\n",
    "* Russian http://gerbil-qa.aksw.org/gerbil/experiment?id=202209240015\n",
    "* French http://gerbil-qa.aksw.org/gerbil/experiment?id=202209240016\n",
    "\n",
    "# QALD 10\n"
   ]
  },
  {
   "cell_type": "code",
   "execution_count": null,
   "id": "8ce1aeac-04bc-4065-9a4d-59aee08f83af",
   "metadata": {},
   "outputs": [],
   "source": []
  }
 ],
 "metadata": {
  "kernelspec": {
   "display_name": "Python 3.8.10 64-bit",
   "language": "python",
   "name": "python3"
  },
  "language_info": {
   "codemirror_mode": {
    "name": "ipython",
    "version": 3
   },
   "file_extension": ".py",
   "mimetype": "text/x-python",
   "name": "python",
   "nbconvert_exporter": "python",
   "pygments_lexer": "ipython3",
   "version": "3.8.10"
  },
  "vscode": {
   "interpreter": {
    "hash": "916dbcbb3f70747c44a77c7bcd40155683ae19c65e1c03b4aa3499c5328201f1"
   }
  }
 },
 "nbformat": 4,
 "nbformat_minor": 5
}
