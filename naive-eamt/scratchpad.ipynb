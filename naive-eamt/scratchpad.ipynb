{
 "cells": [
  {
   "cell_type": "code",
   "execution_count": null,
   "id": "25f1f027-c175-46ac-9083-01181badd682",
   "metadata": {
    "tags": []
   },
   "outputs": [],
   "source": [
    "# Read the config file\n",
    "# create set of the required components\n",
    "# Initialize the required components components\n",
    "# Create service route for each pipeline"
   ]
  },
  {
   "cell_type": "code",
   "execution_count": 1,
   "id": "597d7db7-4663-4fe7-bc2c-f446485a7093",
   "metadata": {},
   "outputs": [
    {
     "name": "stdout",
     "output_type": "stream",
     "text": [
      "<configparser.ConfigParser object at 0x7f8fa06f9e80>\n"
     ]
    }
   ],
   "source": [
    "import configparser\n",
    "\n",
    "config = configparser.ConfigParser()\n",
    "config.read('settings.ini')\n",
    "print(config)"
   ]
  },
  {
   "cell_type": "code",
   "execution_count": 4,
   "id": "20658456-56bb-4d5c-8ad8-46edb7549b2c",
   "metadata": {},
   "outputs": [
    {
     "name": "stdout",
     "output_type": "stream",
     "text": [
      "<Section: DEFAULT>\n",
      "<Section: EAMT Pipeline 1>\n",
      "name babelscape-mgenre-libre\n",
      "components ['babelscape', 'mgenre', 'libre']\n",
      "path '/pipeline1'\n"
     ]
    }
   ],
   "source": [
    "for section in config:\n",
    "    print(config[section])\n",
    "    for item in config[section]:\n",
    "        print(item, config[section][item])"
   ]
  }
 ],
 "metadata": {
  "kernelspec": {
   "display_name": "lf_ner",
   "language": "python",
   "name": "lf_ner"
  },
  "language_info": {
   "codemirror_mode": {
    "name": "ipython",
    "version": 3
   },
   "file_extension": ".py",
   "mimetype": "text/x-python",
   "name": "python",
   "nbconvert_exporter": "python",
   "pygments_lexer": "ipython3",
   "version": "3.9.12"
  }
 },
 "nbformat": 4,
 "nbformat_minor": 5
}
